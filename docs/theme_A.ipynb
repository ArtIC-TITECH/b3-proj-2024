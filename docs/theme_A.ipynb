{
  "cells": [
    {
      "cell_type": "markdown",
      "metadata": {
        "id": "462te64u_ESN"
      },
      "source": [
        "[![Open in Colab](https://colab.research.google.com/assets/colab-badge.svg)](https://colab.research.google.com/github/ArtIC-TITECH/b3-proj-2024/blob/main/docs/theme_A.ipynb)"
      ]
    },
    {
      "cell_type": "code",
      "source": [
        "!pip install -U kaleido\n",
        "import kaleido\n",
        "\n",
        "import os\n",
        "import numpy as np\n",
        "import torch\n",
        "import plotly.graph_objects as go\n",
        "import imageio\n",
        "\n",
        "# 画像保存用のディレクトリを作成\n",
        "output_dir = \"frames\"\n",
        "os.makedirs(output_dir, exist_ok=True)\n",
        "\n",
        "# 2次元の関数 (例: f(x, y) = x^2 - 0.1 * y^2)\n",
        "def func(x, y):\n",
        "    return x**2 - 0.1*y**2\n",
        "\n",
        "# 勾配 (微分)\n",
        "def grad_func(x, y):\n",
        "    dx = 2 * x\n",
        "    dy = -0.2 * y\n",
        "    return torch.tensor([dx, dy])\n",
        "\n",
        "# 初期値設定\n",
        "x_init = torch.tensor([9.0, 1.0], requires_grad=True)\n",
        "lr = 0.9  # 学習率\n",
        "epochs = 15  # イテレーション数\n",
        "\n",
        "# 最適化過程を保存\n",
        "history = []\n",
        "\n",
        "# SGD最適化\n",
        "for epoch in range(epochs):\n",
        "    grad = grad_func(x_init[0], x_init[1])\n",
        "    with torch.no_grad():\n",
        "        x_init -= lr * grad\n",
        "    history.append(x_init.clone().detach().numpy())\n",
        "\n",
        "# 3Dグラフの準備\n",
        "x = np.linspace(-10, 10, 100)\n",
        "y = np.linspace(0, 16, 100)\n",
        "X, Y = np.meshgrid(x, y)\n",
        "Z = func(X, Y)\n",
        "\n",
        "# 最適化の軌跡\n",
        "history = np.array(history)\n",
        "trajectory = func(history[:, 0], history[:, 1])\n",
        "\n",
        "# plotlyで3Dプロットを作成\n",
        "fig = go.Figure()\n",
        "\n",
        "# 関数の3Dサーフェス\n",
        "fig.add_trace(go.Surface(z=Z, x=X, y=Y, colorscale='Viridis', opacity=0.6))\n",
        "\n",
        "# 最適化の軌跡\n",
        "fig.add_trace(go.Scatter3d(\n",
        "    x=history[:, 0], y=history[:, 1], z=trajectory,\n",
        "    mode='markers+lines',\n",
        "    marker=dict(size=5, color='red', opacity=1),\n",
        "    line=dict(color='red', width=2)\n",
        "))\n",
        "\n",
        "# タイトルとラベル\n",
        "fig.update_layout(\n",
        "    title=\"Optimization Process without Momentum\",\n",
        "    scene=dict(\n",
        "        xaxis_title='X',\n",
        "        yaxis_title='Y',\n",
        "        zaxis_title='f(x, y)'\n",
        "    ),\n",
        "    width=800,\n",
        "    height=600\n",
        ")\n",
        "\n",
        "# GIFの生成\n",
        "frames = []\n",
        "for angle in range(0, 360, 10):  # 10度ずつ回転\n",
        "    fig.update_layout(scene_camera_eye=dict(x=1.25 * np.sin(np.radians(angle)), y=1.25 * np.cos(np.radians(angle)), z=0.5))\n",
        "\n",
        "    # 画像を専用フォルダに保存\n",
        "    filename = os.path.join(output_dir, f\"frame_{angle}.png\")\n",
        "    fig.write_image(filename)\n",
        "\n",
        "    # フレームを読み込んでリストに追加\n",
        "    frames.append(imageio.imread(filename))\n",
        "\n",
        "# GIF保存\n",
        "imageio.mimsave(\"without_momentum.gif\", frames, fps=10)\n"
      ],
      "metadata": {
        "id": "_bi1youPGeda",
        "outputId": "b2183a87-09c2-4ace-d214-e9fd313dbf8b",
        "colab": {
          "base_uri": "https://localhost:8080/"
        }
      },
      "execution_count": 1,
      "outputs": [
        {
          "output_type": "stream",
          "name": "stdout",
          "text": [
            "Requirement already satisfied: kaleido in /usr/local/lib/python3.10/dist-packages (0.2.1)\n"
          ]
        },
        {
          "output_type": "stream",
          "name": "stderr",
          "text": [
            "<ipython-input-1-2d9c67b030be>:85: DeprecationWarning:\n",
            "\n",
            "Starting with ImageIO v3 the behavior of this function will switch to that of iio.v3.imread. To keep the current behavior (and make this warning disappear) use `import imageio.v2 as imageio` or call `imageio.v2.imread` directly.\n",
            "\n"
          ]
        }
      ]
    },
    {
      "cell_type": "code",
      "source": [
        "# 画像保存用のディレクトリを作成\n",
        "output_dir = \"frames\"\n",
        "os.makedirs(output_dir, exist_ok=True)\n",
        "\n",
        "# 2次元の関数 (例: f(x, y) = x^2 - 0.1 * y^2)\n",
        "def func(x, y):\n",
        "    return x**2 - 0.1*y**2\n",
        "\n",
        "# 勾配 (微分)\n",
        "def grad_func(x, y):\n",
        "    dx = 2 * x\n",
        "    dy = -0.2 * y\n",
        "    return torch.tensor([dx, dy])\n",
        "\n",
        "# 初期値設定\n",
        "x_init = torch.tensor([9.0, 1.0], requires_grad=True)\n",
        "lr = 0.9  # 学習率\n",
        "epochs = 15  # イテレーション数\n",
        "\n",
        "# 初期値設定\n",
        "x_init = torch.tensor([9.0, 1.0], requires_grad=True)\n",
        "lr = 0.9  # 学習率\n",
        "epochs = 15  # イテレーション数\n",
        "\n",
        "# 最適化過程を保存\n",
        "history = []\n",
        "\n",
        "# モーメンタム法による最適化\n",
        "momentum = 0.1  # モーメンタムのパラメータ\n",
        "v = torch.zeros_like(x_init)  # 更新量\n",
        "\n",
        "for epoch in range(epochs):\n",
        "    grad = grad_func(x_init[0], x_init[1])\n",
        "\n",
        "    # モーメンタムの更新\n",
        "    v = momentum * v + grad\n",
        "    with torch.no_grad():\n",
        "        x_init -= lr * v  # 更新量に学習率を掛けて更新\n",
        "\n",
        "    # 最適化の進行状況を保存\n",
        "    history.append(x_init.clone().detach().numpy())\n",
        "\n",
        "# 3Dグラフの準備\n",
        "x = np.linspace(-10, 10, 100)\n",
        "y = np.linspace(0, 16, 100)\n",
        "X, Y = np.meshgrid(x, y)\n",
        "Z = func(X, Y)\n",
        "\n",
        "# 最適化の軌跡\n",
        "history = np.array(history)\n",
        "trajectory = func(history[:, 0], history[:, 1])\n",
        "\n",
        "# plotlyで3Dプロットを作成\n",
        "fig = go.Figure()\n",
        "\n",
        "# 関数の3Dサーフェス\n",
        "fig.add_trace(go.Surface(z=Z, x=X, y=Y, colorscale='Viridis', opacity=0.6))\n",
        "\n",
        "# 最適化の軌跡\n",
        "fig.add_trace(go.Scatter3d(\n",
        "    x=history[:, 0], y=history[:, 1], z=trajectory,\n",
        "    mode='markers+lines',\n",
        "    marker=dict(size=5, color='red', opacity=1),\n",
        "    line=dict(color='red', width=2)\n",
        "))\n",
        "\n",
        "# タイトルとラベル\n",
        "fig.update_layout(\n",
        "    title=\"Optimization Process with Momentum\",\n",
        "    scene=dict(\n",
        "        xaxis_title='X',\n",
        "        yaxis_title='Y',\n",
        "        zaxis_title='f(x, y)'\n",
        "    ),\n",
        "    width=800,\n",
        "    height=600\n",
        ")\n",
        "\n",
        "# GIFの生成\n",
        "frames = []\n",
        "for angle in range(0, 360, 10):  # 10度ずつ回転\n",
        "    fig.update_layout(scene_camera_eye=dict(x=1.25 * np.sin(np.radians(angle)), y=1.25 * np.cos(np.radians(angle)), z=0.5))\n",
        "\n",
        "    # 画像を専用フォルダに保存\n",
        "    filename = os.path.join(output_dir, f\"frame_{angle}.png\")\n",
        "    fig.write_image(filename)\n",
        "\n",
        "    # フレームを読み込んでリストに追加\n",
        "    frames.append(imageio.imread(filename))\n",
        "\n",
        "# GIF保存\n",
        "imageio.mimsave(\"with_momentum.gif\", frames, fps=10)\n"
      ],
      "metadata": {
        "id": "bLy1QKdGHV1h",
        "outputId": "1c32f2ec-d524-47c5-b06b-2a6b1731c36f",
        "colab": {
          "base_uri": "https://localhost:8080/"
        }
      },
      "execution_count": 2,
      "outputs": [
        {
          "output_type": "stream",
          "name": "stderr",
          "text": [
            "<ipython-input-2-91f77a1be3d5>:89: DeprecationWarning:\n",
            "\n",
            "Starting with ImageIO v3 the behavior of this function will switch to that of iio.v3.imread. To keep the current behavior (and make this warning disappear) use `import imageio.v2 as imageio` or call `imageio.v2.imread` directly.\n",
            "\n"
          ]
        }
      ]
    },
    {
      "cell_type": "code",
      "source": [],
      "metadata": {
        "id": "GEzhw9cAV6Zv"
      },
      "execution_count": 2,
      "outputs": []
    }
  ],
  "metadata": {
    "kernelspec": {
      "display_name": "linearresnet",
      "language": "python",
      "name": "python3"
    },
    "language_info": {
      "codemirror_mode": {
        "name": "ipython",
        "version": 3
      },
      "file_extension": ".py",
      "mimetype": "text/x-python",
      "name": "python",
      "nbconvert_exporter": "python",
      "pygments_lexer": "ipython3",
      "version": "3.10.0"
    },
    "colab": {
      "provenance": []
    }
  },
  "nbformat": 4,
  "nbformat_minor": 0
}