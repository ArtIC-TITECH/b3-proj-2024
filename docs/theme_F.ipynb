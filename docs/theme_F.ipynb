{
  "cells": [
    {
      "cell_type": "markdown",
      "metadata": {
        "id": "462te64u_ESN"
      },
      "source": [
        "[![Open in Colab](https://colab.research.google.com/assets/colab-badge.svg)](https://colab.research.google.com/github/ArtIC-TITECH/b3-proj-2024/blob/main/docs/theme_F.ipynb)"
      ]
    },
    {
      "cell_type": "markdown",
      "source": [
        "# モデルの敵対的サンプルへの耐性評価"
      ],
      "metadata": {
        "id": "rvmqO6d0Zagd"
      }
    },
    {
      "cell_type": "markdown",
      "source": [
        "以下のセルはモデルが誤分類するように入力画像を変化させるFast Gradient Sign Method (FGSM)の実装です。"
      ],
      "metadata": {
        "id": "l9Dn7uEwc0vf"
      }
    },
    {
      "cell_type": "code",
      "source": [
        "import torch\n",
        "import torch.nn as nn\n",
        "import torch.optim as optim\n",
        "from torchvision import datasets, transforms\n",
        "import matplotlib.pyplot as plt\n",
        "\n",
        "# MNISTデータセットの読み込みと前処理\n",
        "transform = transforms.Compose([\n",
        "    transforms.ToTensor(),\n",
        "    transforms.Normalize((0.5,), (0.5,))\n",
        "])\n",
        "\n",
        "trainset = datasets.MNIST(root='./data', train=True, download=True, transform=transform)\n",
        "testset = datasets.MNIST(root='./data', train=False, download=True, transform=transform)\n",
        "\n",
        "trainloader = torch.utils.data.DataLoader(trainset, batch_size=64, shuffle=True)\n",
        "testloader = torch.utils.data.DataLoader(testset, batch_size=64, shuffle=False)\n",
        "\n",
        "# モデルの定義（シンプルなニューラルネットワーク）\n",
        "class SimpleNN(nn.Module):\n",
        "    def __init__(self):\n",
        "        super(SimpleNN, self).__init__()\n",
        "        self.fc1 = nn.Linear(28*28, 128)\n",
        "        self.fc2 = nn.Linear(128, 10)\n",
        "\n",
        "    def forward(self, x):\n",
        "        x = x.view(-1, 28*28)\n",
        "        x = torch.relu(self.fc1(x))\n",
        "        x = self.fc2(x)\n",
        "        return x\n",
        "\n",
        "# モデルのインスタンス化\n",
        "model = SimpleNN()\n",
        "device = torch.device('cuda' if torch.cuda.is_available() else 'cpu')\n",
        "model.to(device)\n",
        "\n",
        "# 損失関数と最適化手法\n",
        "criterion = nn.CrossEntropyLoss()\n",
        "optimizer = optim.Adam(model.parameters(), lr=0.001)\n",
        "\n",
        "# モデルのトレーニング\n",
        "def train(model, trainloader, criterion, optimizer, device, epochs=3):\n",
        "    for epoch in range(epochs):\n",
        "        model.train()\n",
        "        for images, labels in trainloader:\n",
        "            images, labels = images.to(device), labels.to(device)\n",
        "            optimizer.zero_grad()\n",
        "            outputs = model(images)\n",
        "            loss = criterion(outputs, labels)\n",
        "            loss.backward()\n",
        "            optimizer.step()\n",
        "\n",
        "        print(f\"Epoch {epoch+1}, Loss: {loss.item():.4f}\")\n",
        "\n",
        "# モデルを訓練\n",
        "train(model, trainloader, criterion, optimizer, device)\n",
        "\n",
        "# FGSMによる敵対的サンプルの生成\n",
        "def fgsm_attack(model, images, labels, epsilon):\n",
        "    images.requires_grad = True\n",
        "    outputs = model(images)\n",
        "    loss = criterion(outputs, labels)\n",
        "    model.zero_grad()\n",
        "    loss.backward()\n",
        "    data_grad = images.grad.data\n",
        "    sign_data_grad = data_grad.sign()\n",
        "    perturbed_image = images + epsilon * sign_data_grad\n",
        "    return perturbed_image\n",
        "\n",
        "# 敵対的サンプルを生成し、元画像と並べて予測と共に表示する\n",
        "def display_adversarial_examples(model, testloader, epsilon, device):\n",
        "    model.eval()\n",
        "    images, labels = next(iter(testloader))\n",
        "    images, labels = images.to(device), labels.to(device)\n",
        "\n",
        "    # FGSMで敵対的サンプルを生成\n",
        "    perturbed_images = fgsm_attack(model, images, labels, epsilon)\n",
        "\n",
        "    # モデルによる予測結果を取得\n",
        "    original_outputs = model(images)\n",
        "    perturbed_outputs = model(perturbed_images)\n",
        "\n",
        "    _, original_preds = torch.max(original_outputs, 1)\n",
        "    _, perturbed_preds = torch.max(perturbed_outputs, 1)\n",
        "\n",
        "    # 元画像と敵対的サンプルを表示\n",
        "    plt.figure(figsize=(12, 6))\n",
        "    for i in range(5):\n",
        "        # 元画像を表示\n",
        "        plt.subplot(2, 5, i+1)\n",
        "        plt.imshow(images[i].cpu().detach().numpy().squeeze(), cmap='gray')\n",
        "        plt.title(f\"Pred: {original_preds[i].item()}\", fontsize=14)\n",
        "        plt.axis('off')\n",
        "\n",
        "        # 敵対的サンプルを表示\n",
        "        plt.subplot(2, 5, i+6)\n",
        "        plt.imshow(perturbed_images[i].cpu().detach().numpy().squeeze(), cmap='gray')\n",
        "        plt.title(f\"Perturbed Pred: {perturbed_preds[i].item()}\", fontsize=14)\n",
        "        plt.axis('off')\n",
        "\n",
        "    plt.tight_layout()\n",
        "    plt.show()\n",
        "\n",
        "# ε（epsilon）を設定して、敵対的サンプルを表示\n",
        "epsilon = 0.2\n",
        "display_adversarial_examples(model, testloader, epsilon, device)\n"
      ],
      "metadata": {
        "id": "wOfOl2WYZY57",
        "outputId": "d6749a99-f56d-4f96-a8c5-e06bae2dca6f",
        "colab": {
          "base_uri": "https://localhost:8080/",
          "height": 616
        }
      },
      "execution_count": 1,
      "outputs": [
        {
          "output_type": "stream",
          "name": "stdout",
          "text": [
            "Epoch 1, Loss: 0.2447\n",
            "Epoch 2, Loss: 0.5194\n",
            "Epoch 3, Loss: 0.2006\n"
          ]
        },
        {
          "output_type": "display_data",
          "data": {
            "text/plain": [
              "<Figure size 1200x600 with 10 Axes>"
            ],
            "image/png": "[encoded data removed]"
          },
          "metadata": {}
        }
      ]
    },
    {
      "cell_type": "markdown",
      "source": [
        "FGSMによるモデルへの攻撃で分類精度は大きく低下します。"
      ],
      "metadata": {
        "id": "RxtffO5edGTg"
      }
    },
    {
      "cell_type": "code",
      "source": [
        "# テスト精度を計算する関数\n",
        "def test_accuracy(model, testloader, device):\n",
        "    model.eval()  # 評価モード\n",
        "    correct = 0\n",
        "    total = 0\n",
        "    with torch.no_grad():\n",
        "        for images, labels in testloader:\n",
        "            images, labels = images.to(device), labels.to(device)\n",
        "            outputs = model(images)\n",
        "            _, predicted = torch.max(outputs.data, 1)\n",
        "            total += labels.size(0)\n",
        "            correct += (predicted == labels).sum().item()\n",
        "    accuracy = 100 * correct / total\n",
        "    return accuracy\n",
        "\n",
        "# FGSMによる攻撃を受けた後のテスト精度を計算する関数\n",
        "def test_accuracy_with_fgsm(model, testloader, epsilon, device):\n",
        "    model.eval()  # 評価モード\n",
        "    correct = 0\n",
        "    total = 0\n",
        "    for images, labels in testloader:\n",
        "        images, labels = images.to(device), labels.to(device)\n",
        "\n",
        "        # FGSMで敵対的サンプルを生成\n",
        "        perturbed_images = fgsm_attack(model, images, labels, epsilon)\n",
        "\n",
        "        # 敵対的サンプルでモデルの精度を計算\n",
        "        outputs = model(perturbed_images)\n",
        "        _, predicted = torch.max(outputs.data, 1)\n",
        "        total += labels.size(0)\n",
        "        correct += (predicted == labels).sum().item()\n",
        "\n",
        "    accuracy = 100 * correct / total\n",
        "    return accuracy\n",
        "\n",
        "# FGSMなしでテスト精度を計算\n",
        "clean_accuracy = test_accuracy(model, testloader, device)\n",
        "print(f\"Accuracy on clean test data: {clean_accuracy:.2f}%\")\n",
        "\n",
        "# FGSMありでテスト精度を計算\n",
        "epsilon = 0.2\n",
        "adversarial_accuracy = test_accuracy_with_fgsm(model, testloader, epsilon, device)\n",
        "print(f\"Accuracy on adversarial test data (epsilon={epsilon}): {adversarial_accuracy:.2f}%\")\n"
      ],
      "metadata": {
        "id": "GG_B9l6xZuxQ",
        "outputId": "72e25ba5-e548-4d0a-d632-bed75ec76bbd",
        "colab": {
          "base_uri": "https://localhost:8080/"
        }
      },
      "execution_count": 2,
      "outputs": [
        {
          "output_type": "stream",
          "name": "stdout",
          "text": [
            "Accuracy on clean test data: 95.80%\n",
            "Accuracy on adversarial test data (epsilon=0.2): 13.98%\n"
          ]
        }
      ]
    },
    {
      "cell_type": "code",
      "source": [],
      "metadata": {
        "id": "YeE_HnlYa3gX"
      },
      "execution_count": 2,
      "outputs": []
    }
  ],
  "metadata": {
    "kernelspec": {
      "display_name": "linearresnet",
      "language": "python",
      "name": "python3"
    },
    "language_info": {
      "codemirror_mode": {
        "name": "ipython",
        "version": 3
      },
      "file_extension": ".py",
      "mimetype": "text/x-python",
      "name": "python",
      "nbconvert_exporter": "python",
      "pygments_lexer": "ipython3",
      "version": "3.10.0"
    },
    "colab": {
      "provenance": []
    }
  },
  "nbformat": 4,
  "nbformat_minor": 0
}